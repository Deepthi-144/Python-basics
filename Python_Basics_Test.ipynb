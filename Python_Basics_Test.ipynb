{
  "nbformat": 4,
  "nbformat_minor": 0,
  "metadata": {
    "colab": {
      "provenance": [],
      "toc_visible": true
    },
    "kernelspec": {
      "name": "python3",
      "display_name": "Python 3"
    },
    "language_info": {
      "name": "python"
    }
  },
  "cells": [
    {
      "cell_type": "code",
      "execution_count": 1,
      "metadata": {
        "colab": {
          "base_uri": "https://localhost:8080/"
        },
        "id": "f8u9h8oRrKuB",
        "outputId": "4ae9f5fc-c927-4785-9abf-c8a296edf9b6"
      },
      "outputs": [
        {
          "output_type": "stream",
          "name": "stdout",
          "text": [
            "Hello, World!\n"
          ]
        }
      ],
      "source": [
        "# A basic Python program to print \"Hello, World!\"\n",
        "print(\"Hello, World!\")\n"
      ]
    },
    {
      "cell_type": "code",
      "source": [
        "# Program to display name and age\n",
        "name = \"Mandeep singh\"\n",
        "age = 35\n",
        "\n",
        "print(f\"My name is {name} and I am {age} years old.\")\n"
      ],
      "metadata": {
        "colab": {
          "base_uri": "https://localhost:8080/"
        },
        "id": "-gW6dUjQrzAm",
        "outputId": "7cd6c27d-ae4b-4eba-8ba3-1ec3cee52324"
      },
      "execution_count": 2,
      "outputs": [
        {
          "output_type": "stream",
          "name": "stdout",
          "text": [
            "My name is Mandeep singh and I am 35 years old.\n"
          ]
        }
      ]
    },
    {
      "cell_type": "code",
      "source": [
        "# Import the keyword library\n",
        "import keyword\n",
        "\n",
        "# Get the list of all keywords\n",
        "keywords = keyword.kwlist\n",
        "\n",
        "# Print the keywords\n",
        "print(\"Python Keywords:\")\n",
        "for kw in keywords:\n",
        "    print(kw)\n"
      ],
      "metadata": {
        "colab": {
          "base_uri": "https://localhost:8080/"
        },
        "id": "mpdQF_tfsJ0u",
        "outputId": "81b1bdf1-0406-4ad5-8f8f-5ae92b6c5253"
      },
      "execution_count": 3,
      "outputs": [
        {
          "output_type": "stream",
          "name": "stdout",
          "text": [
            "Python Keywords:\n",
            "False\n",
            "None\n",
            "True\n",
            "and\n",
            "as\n",
            "assert\n",
            "async\n",
            "await\n",
            "break\n",
            "class\n",
            "continue\n",
            "def\n",
            "del\n",
            "elif\n",
            "else\n",
            "except\n",
            "finally\n",
            "for\n",
            "from\n",
            "global\n",
            "if\n",
            "import\n",
            "in\n",
            "is\n",
            "lambda\n",
            "nonlocal\n",
            "not\n",
            "or\n",
            "pass\n",
            "raise\n",
            "return\n",
            "try\n",
            "while\n",
            "with\n",
            "yield\n"
          ]
        }
      ]
    },
    {
      "cell_type": "code",
      "source": [
        "# Import the keyword library\n",
        "import keyword\n",
        "\n",
        "# Prompt the user for input\n",
        "word = input(\"Enter a word to check: \")\n",
        "\n",
        "# Check if the word is a Python keyword\n",
        "if keyword.iskeyword(word):\n",
        "    print(f'\"{word}\" is a Python keyword.')\n",
        "else:\n",
        "    print(f'\"{word}\" is not a Python keyword.')\n"
      ],
      "metadata": {
        "colab": {
          "base_uri": "https://localhost:8080/"
        },
        "id": "ud4BdbFnsW3E",
        "outputId": "896e8002-c71c-4d8e-b489-ab3fa596a642"
      },
      "execution_count": 6,
      "outputs": [
        {
          "output_type": "stream",
          "name": "stdout",
          "text": [
            "Enter a word to check: yield\n",
            "\"yield\" is a Python keyword.\n"
          ]
        }
      ]
    },
    {
      "cell_type": "code",
      "source": [
        "# Create a list and a tuple\n",
        "my_list = [1, 2, 3]\n",
        "my_tuple = (1, 2, 3)\n",
        "\n",
        "# Attempt to modify the second element in the list\n",
        "print(\"Original list:\", my_list)\n",
        "my_list[1] = 42  # Modifying the second element\n",
        "print(\"Modified list:\", my_list)\n",
        "\n",
        "# Attempt to modify the second element in the tuple\n",
        "print(\"\\nOriginal tuple:\", my_tuple)\n",
        "try:\n",
        "    my_tuple[1] = 42  # Attempting to modify the second element\n",
        "except TypeError as e:\n",
        "    print(\"Error:\", e)\n"
      ],
      "metadata": {
        "colab": {
          "base_uri": "https://localhost:8080/"
        },
        "id": "-uaOSsgmtD2U",
        "outputId": "25424bb9-685c-47b0-fca0-14b29d5e6b11"
      },
      "execution_count": 8,
      "outputs": [
        {
          "output_type": "stream",
          "name": "stdout",
          "text": [
            "Original list: [1, 2, 3]\n",
            "Modified list: [1, 42, 3]\n",
            "\n",
            "Original tuple: (1, 2, 3)\n",
            "Error: 'tuple' object does not support item assignment\n"
          ]
        }
      ]
    },
    {
      "cell_type": "code",
      "source": [
        "def modify_values(mutable_obj, immutable_obj):\n",
        "    \"\"\"\n",
        "    Demonstrates the behavior of mutable and immutable arguments.\n",
        "    \"\"\"\n",
        "    # Modify the mutable object (e.g., list)\n",
        "    mutable_obj.append(42)\n",
        "    print(\"Inside function (mutable):\", mutable_obj)\n",
        "\n",
        "    # Attempt to modify the immutable object (e.g., int)\n",
        "    immutable_obj += 10\n",
        "    print(\"Inside function (immutable):\", immutable_obj)\n",
        "\n",
        "# Create a mutable object (list) and an immutable object (integer)\n",
        "my_list = [1, 2, 3]  # Mutable\n",
        "my_int = 5           # Immutable\n",
        "\n",
        "print(\"Before function call:\")\n",
        "print(\"Mutable object:\", my_list)\n",
        "print(\"Immutable object:\", my_int)\n",
        "\n",
        "# Call the function\n",
        "modify_values(my_list, my_int)\n",
        "\n",
        "print(\"\\nAfter function call:\")\n",
        "print(\"Mutable object:\", my_list)  # Modified outside the function\n",
        "print(\"Immutable object:\", my_int)  # Unchanged outside the function\n"
      ],
      "metadata": {
        "colab": {
          "base_uri": "https://localhost:8080/"
        },
        "id": "9tE5xJLGtLRP",
        "outputId": "8bab3bea-aa2d-49d3-b371-4a5742c3093e"
      },
      "execution_count": 9,
      "outputs": [
        {
          "output_type": "stream",
          "name": "stdout",
          "text": [
            "Before function call:\n",
            "Mutable object: [1, 2, 3]\n",
            "Immutable object: 5\n",
            "Inside function (mutable): [1, 2, 3, 42]\n",
            "Inside function (immutable): 15\n",
            "\n",
            "After function call:\n",
            "Mutable object: [1, 2, 3, 42]\n",
            "Immutable object: 5\n"
          ]
        }
      ]
    },
    {
      "cell_type": "code",
      "source": [
        "def demonstrate_behavior(mutable_obj, immutable_obj):\n",
        "    \"\"\"\n",
        "    Demonstrates how mutable and immutable arguments behave when modified inside a function.\n",
        "    \"\"\"\n",
        "    # Modify the mutable object (e.g., list)\n",
        "    mutable_obj.append(100)\n",
        "    print(\"Inside function (mutable object):\", mutable_obj)\n",
        "\n",
        "    # Attempt to modify the immutable object (e.g., integer)\n",
        "    immutable_obj += 50\n",
        "    print(\"Inside function (immutable object):\", immutable_obj)\n",
        "\n",
        "\n",
        "# Example usage\n",
        "# Mutable object: a list\n",
        "mutable_example = [1, 2, 3]\n",
        "\n",
        "# Immutable object: an integer\n",
        "immutable_example = 10\n",
        "\n",
        "print(\"Before function call:\")\n",
        "print(\"Mutable object:\", mutable_example)\n",
        "print(\"Immutable object:\", immutable_example)\n",
        "\n",
        "# Call the function\n",
        "demonstrate_behavior(mutable_example, immutable_example)\n",
        "\n",
        "print(\"\\nAfter function call:\")\n",
        "print(\"Mutable object:\", mutable_example)  # Changed outside the function\n",
        "print(\"Immutable object:\", immutable_example)  # Unchanged outside the function\n"
      ],
      "metadata": {
        "colab": {
          "base_uri": "https://localhost:8080/"
        },
        "id": "PDfFPf7GtZhP",
        "outputId": "76195847-ecf4-49fe-a4ad-a573aef28bc3"
      },
      "execution_count": 10,
      "outputs": [
        {
          "output_type": "stream",
          "name": "stdout",
          "text": [
            "Before function call:\n",
            "Mutable object: [1, 2, 3]\n",
            "Immutable object: 10\n",
            "Inside function (mutable object): [1, 2, 3, 100]\n",
            "Inside function (immutable object): 60\n",
            "\n",
            "After function call:\n",
            "Mutable object: [1, 2, 3, 100]\n",
            "Immutable object: 10\n"
          ]
        }
      ]
    },
    {
      "cell_type": "code",
      "source": [
        "# Function to demonstrate logical operators\n",
        "def demonstrate_logical_operators(a, b, c):\n",
        "    print(\"Logical Operators Demonstration:\")\n",
        "\n",
        "    # AND operator\n",
        "    print(f\"({a} > {b}) and ({b} > {c}):\", (a > b) and (b > c))\n",
        "\n",
        "    # OR operator\n",
        "    print(f\"({a} > {b}) or ({b} > {c}):\", (a > b) or (b > c))\n",
        "\n",
        "    # NOT operator\n",
        "    print(f\"not ({a} > {b}):\", not (a > b))\n",
        "\n",
        "# Input values\n",
        "x = 10\n",
        "y = 5\n",
        "z = 2\n",
        "\n",
        "# Call the function\n",
        "demonstrate_logical_operators(x, y, z)\n"
      ],
      "metadata": {
        "colab": {
          "base_uri": "https://localhost:8080/"
        },
        "id": "3jWloRkStjF_",
        "outputId": "a74991d0-5b84-48d0-afdc-5554faf496d0"
      },
      "execution_count": 11,
      "outputs": [
        {
          "output_type": "stream",
          "name": "stdout",
          "text": [
            "Logical Operators Demonstration:\n",
            "(10 > 5) and (5 > 2): True\n",
            "(10 > 5) or (5 > 2): True\n",
            "not (10 > 5): False\n"
          ]
        }
      ]
    },
    {
      "cell_type": "code",
      "source": [
        "# Program to convert user input to different types\n",
        "\n",
        "# Get input from the user\n",
        "user_input = input(\"Enter a value: \")\n",
        "\n",
        "# Convert to integer\n",
        "try:\n",
        "    int_value = int(user_input)\n",
        "    print(f\"Integer value: {int_value}\")\n",
        "except ValueError:\n",
        "    print(\"Cannot convert to an integer.\")\n",
        "\n",
        "# Convert to float\n",
        "try:\n",
        "    float_value = float(user_input)\n",
        "    print(f\"Float value: {float_value}\")\n",
        "except ValueError:\n",
        "    print(\"Cannot convert to a float.\")\n",
        "\n",
        "# Convert to boolean\n",
        "# Any non-empty string converts to True, and an empty string converts to False\n",
        "bool_value = bool(user_input.strip())\n",
        "print(f\"Boolean value: {bool_value}\")\n"
      ],
      "metadata": {
        "colab": {
          "base_uri": "https://localhost:8080/"
        },
        "id": "z48CJXweul6j",
        "outputId": "02173500-6d56-4c8b-c37e-d025e830a37a"
      },
      "execution_count": 14,
      "outputs": [
        {
          "output_type": "stream",
          "name": "stdout",
          "text": [
            "Enter a value: 144\n",
            "Integer value: 144\n",
            "Float value: 144.0\n",
            "Boolean value: True\n"
          ]
        }
      ]
    },
    {
      "cell_type": "code",
      "source": [
        "# Program to demonstrate type casting with list elements\n",
        "\n",
        "# Original list with different types of elements (string, float, boolean)\n",
        "mixed_list = ['123', '45.67', 'True', 'False']\n",
        "\n",
        "# Convert elements to integer, float, and boolean types\n",
        "int_list = [int(item) if item.isdigit() else item for item in mixed_list]  # Convert strings to integers where possible\n",
        "float_list = [float(item) if item.replace('.', '', 1).isdigit() else item for item in mixed_list]  # Convert strings to floats\n",
        "bool_list = [item.lower() == 'true' if isinstance(item, str) else bool(item) for item in mixed_list]  # Convert strings 'True'/'False' to boolean\n",
        "\n",
        "# Print the original and converted lists\n",
        "print(\"Original List:\", mixed_list)\n",
        "print(\"List with Integers:\", int_list)\n",
        "print(\"List with Floats:\", float_list)\n",
        "print(\"List with Booleans:\", bool_list)\n"
      ],
      "metadata": {
        "colab": {
          "base_uri": "https://localhost:8080/"
        },
        "id": "3uegOM2-vCyD",
        "outputId": "fec38d91-f185-4bdf-a55a-764bb8ae1120"
      },
      "execution_count": 15,
      "outputs": [
        {
          "output_type": "stream",
          "name": "stdout",
          "text": [
            "Original List: ['123', '45.67', 'True', 'False']\n",
            "List with Integers: [123, '45.67', 'True', 'False']\n",
            "List with Floats: [123.0, 45.67, 'True', 'False']\n",
            "List with Booleans: [False, False, True, False]\n"
          ]
        }
      ]
    },
    {
      "cell_type": "code",
      "source": [
        "# Program to check if a number is positive, negative, or zero\n",
        "\n",
        "# Get input from the user\n",
        "number = float(input(\"Enter a number: \"))\n",
        "\n",
        "# Check if the number is positive, negative, or zero\n",
        "if number > 0:\n",
        "    print(\"The number is positive.\")\n",
        "elif number < 0:\n",
        "    print(\"The number is negative.\")\n",
        "else:\n",
        "    print(\"The number is zero.\")\n"
      ],
      "metadata": {
        "colab": {
          "base_uri": "https://localhost:8080/"
        },
        "id": "u7xenUUMvNQW",
        "outputId": "18528db6-b3bc-4fd1-b7cc-eafb5d5b7dc4"
      },
      "execution_count": 17,
      "outputs": [
        {
          "output_type": "stream",
          "name": "stdout",
          "text": [
            "Enter a number: -144\n",
            "The number is negative.\n"
          ]
        }
      ]
    },
    {
      "cell_type": "code",
      "source": [
        "# Using a for loop to print numbers from 1 to 10\n",
        "for i in range(1, 11):\n",
        "    print(i)\n"
      ],
      "metadata": {
        "colab": {
          "base_uri": "https://localhost:8080/"
        },
        "id": "w8v8DgwUvbiK",
        "outputId": "83d96667-31a2-4dfc-d2f9-f3d2c81757cd"
      },
      "execution_count": 18,
      "outputs": [
        {
          "output_type": "stream",
          "name": "stdout",
          "text": [
            "1\n",
            "2\n",
            "3\n",
            "4\n",
            "5\n",
            "6\n",
            "7\n",
            "8\n",
            "9\n",
            "10\n"
          ]
        }
      ]
    },
    {
      "cell_type": "code",
      "source": [
        "# Program to find the sum of all even numbers between 1 and 50\n",
        "\n",
        "# Initialize the sum variable\n",
        "sum_of_even_numbers = 0\n",
        "\n",
        "# Iterate through numbers from 1 to 50\n",
        "for num in range(1, 51):\n",
        "    if num % 2 == 0:  # Check if the number is even\n",
        "        sum_of_even_numbers += num  # Add the even number to the sum\n",
        "\n",
        "# Print the result\n",
        "print(\"The sum of all even numbers between 1 and 50 is:\", sum_of_even_numbers)\n"
      ],
      "metadata": {
        "colab": {
          "base_uri": "https://localhost:8080/"
        },
        "id": "bKH0JHJRvh1z",
        "outputId": "931b3c3b-292e-4313-b7e8-404a0cba67bf"
      },
      "execution_count": 19,
      "outputs": [
        {
          "output_type": "stream",
          "name": "stdout",
          "text": [
            "The sum of all even numbers between 1 and 50 is: 650\n"
          ]
        }
      ]
    },
    {
      "cell_type": "code",
      "source": [
        "# Program to reverse a string using a while loop\n",
        "\n",
        "# Get input from the user\n",
        "input_string = input(\"Enter a string: \")\n",
        "\n",
        "# Initialize an empty string to store the reversed string\n",
        "reversed_string = \"\"\n",
        "\n",
        "# Initialize a counter for the while loop\n",
        "index = len(input_string) - 1\n",
        "\n",
        "# Use a while loop to iterate through the string in reverse\n",
        "while index >= 0:\n",
        "    reversed_string += input_string[index]  # Append the character to the reversed string\n",
        "    index -= 1  # Move to the previous character\n",
        "\n",
        "# Print the reversed string\n",
        "print(\"Reversed string:\", reversed_string)\n"
      ],
      "metadata": {
        "colab": {
          "base_uri": "https://localhost:8080/"
        },
        "id": "qh_DI9kzvr07",
        "outputId": "3d8a965c-86ff-4b9c-ba4a-f10201ae5167"
      },
      "execution_count": 24,
      "outputs": [
        {
          "output_type": "stream",
          "name": "stdout",
          "text": [
            "Enter a string: Raja\n",
            "Reversed string: ajaR\n"
          ]
        }
      ]
    },
    {
      "cell_type": "code",
      "source": [
        "# Program to calculate the factorial of a number using a while loop\n",
        "\n",
        "# Get input from the user\n",
        "number = int(input(\"Enter a number: \"))\n",
        "\n",
        "# Initialize the factorial result as 1\n",
        "factorial = 1\n",
        "\n",
        "# Check if the number is negative\n",
        "if number < 0:\n",
        "    print(\"Factorial is not defined for negative numbers.\")\n",
        "else:\n",
        "    # Use a while loop to calculate the factorial\n",
        "    while number > 1:\n",
        "        factorial *= number  # Multiply the current factorial value by the number\n",
        "        number -= 1  # Decrease the number by 1\n",
        "\n",
        "    # Print the result\n",
        "    print(\"Factorial:\", factorial)\n"
      ],
      "metadata": {
        "colab": {
          "base_uri": "https://localhost:8080/"
        },
        "id": "RtKqbkGewO79",
        "outputId": "506b303d-8ab0-4528-f7d3-8c61f4380681"
      },
      "execution_count": 25,
      "outputs": [
        {
          "output_type": "stream",
          "name": "stdout",
          "text": [
            "Enter a number: 9\n",
            "Factorial: 362880\n"
          ]
        }
      ]
    },
    {
      "cell_type": "markdown",
      "source": [
        "1. Python is a high-level, interpreted programming language known for its simplicity and readability. It was created by Guido van Rossum and first released in 1991. Python emphasizes code readability with its clean and straightforward syntax, which allows developers to write clear and logical code for both small and large-scale projects. Python's combination of simplicity, versatility, and strong community support makes it one of the most popular programming languages in the world."
      ],
      "metadata": {
        "id": "-6JvY8uKwZ5T"
      }
    },
    {
      "cell_type": "markdown",
      "source": [
        "2. An interpreter in Python is a program that executes Python code line by line. Unlike compiled languages, where the code is translated into machine code before execution, Python uses an interpreter to process the code at runtime. This makes Python flexible and easy to debug but can sometimes result in slower performance compared to compiled languages. It is a key component that contributes to the language's ease of use and widespread adoption."
      ],
      "metadata": {
        "id": "pXLrlFZHwhWR"
      }
    },
    {
      "cell_type": "markdown",
      "source": [
        "3. Pre-defined keywords in Python are reserved words that have special meanings and purposes in the language. These keywords are part of the Python syntax and cannot be used as identifiers (e.g., variable names, function names). They are essential for defining the structure and behavior of Python programs."
      ],
      "metadata": {
        "id": "zQZ30PbTwlLA"
      }
    },
    {
      "cell_type": "markdown",
      "source": [
        "4. Keywords cannot be used as variable names in Python. Keywords are reserved words with predefined meanings in the Python language and using them as variable names would result in a syntax error."
      ],
      "metadata": {
        "id": "KE9130tMwod7"
      }
    },
    {
      "cell_type": "markdown",
      "source": [
        "5. Mutability in Python refers to the ability of an object to be changed after it is created. Objects in Python are classified as either mutable or immutable based on whether their state."
      ],
      "metadata": {
        "id": "Tz6m_BF5wtLZ"
      }
    },
    {
      "cell_type": "markdown",
      "source": [
        "6. The mutability of lists and the immutability of tuples in Python is by design and reflects their intended use cases. Lists:Lists are designed to be flexible and dynamic, allowing modification of their elements. Tuples:Tuples are designed to be static and hashable, meaning their content cannot change after creation."
      ],
      "metadata": {
        "id": "ORkvy4jNwxhA"
      }
    },
    {
      "cell_type": "markdown",
      "source": [
        "7. In Python, the == operator and the is operator are used for comparisons, but they serve different purposes: ==is used when you want to compare the content of two objects. isis used when you want to check if two variables point to the same object in memory."
      ],
      "metadata": {
        "id": "ArtQWFb5w3dq"
      }
    },
    {
      "cell_type": "markdown",
      "source": [
        "8. In Python, logical operators are used to combine conditional statements and return a Boolean value (True or False).\n",
        "The three primary logical operators in Python are:\n",
        "\n",
        "and: Returns True if both conditions are True.\n",
        "or: Returns True if at least one of the conditions is True.\n",
        "not: Reverses the Boolean value of the condition. If the condition is True, it returns False, and vice versa."
      ],
      "metadata": {
        "id": "lpefT96lw7JI"
      }
    },
    {
      "cell_type": "markdown",
      "source": [
        "9. Type casting in Python refers to the process of converting one data type to another.\n",
        "Python provides two types of type casting:\n",
        "\n",
        "Implicit casting happens automatically, typically from smaller to larger data types (e.g., int to float).\n",
        "Explicit casting is done manually by using type conversion functions like int(), float(), etc."
      ],
      "metadata": {
        "id": "aXbeZ-Daw_Wf"
      }
    },
    {
      "cell_type": "markdown",
      "source": [
        "10. The main difference between implicit and explicit type casting in Python lies in how the type conversion is performed and who controls it:\n",
        "\n",
        "Implicit Type Casting (Automatic Type Conversion): Implicit type casting happens automatically when Python internally converts a data type to a compatible one, typically from a smaller data type to a larger one. The Python interpreter handles this conversion without requiring any explicit instruction from the programmer.\n",
        "\n",
        "Explicit Type Casting (Manual Type Conversion): Definition: Explicit type casting occurs when the programmer manually converts one data type to another using built-in functions like int(), float(), str(), etc. The programmer is in control of this conversion and must use specific functions to perform it."
      ],
      "metadata": {
        "id": "kdRRLpYfxChO"
      }
    },
    {
      "cell_type": "markdown",
      "source": [
        "11. Conditional statements in Python are used to make decisions in a program by executing certain blocks of code based on whether a condition is True or False. They allow the program to respond differently to different inputs or situations, enabling dynamic behavior and logic flow.\n",
        "\n",
        "The main purposes of conditional statements in Python are Decision making, control flow and Error handling and validation."
      ],
      "metadata": {
        "id": "Xuxt00kdxFSm"
      }
    },
    {
      "cell_type": "markdown",
      "source": [
        "12. The elif (short for \"else if\") statement in Python is used to check multiple conditions in a sequence. It allows you to test several conditions, where each elif condition is checked only if the previous if or elif conditions were False. If any elif condition is True, its corresponding block of code is executed, and the rest of the elif conditions are skipped. If none of the if or elif conditions are True, the code inside the else block (if present) will be executed."
      ],
      "metadata": {
        "id": "o7zax-nBxLBC"
      }
    },
    {
      "cell_type": "markdown",
      "source": [
        "13. In Python, both for and while loops are used to repeat a block of code multiple times, but they differ in how they are structured and when they are used.\n",
        "for loop: The for loop is used to iterate over a sequence (like a list, tuple, string, or range) or any iterable object. It runs for a fixed number of iterations.\n",
        "\n",
        "while loop: The while loop is used to repeat a block of code as long as a condition is True. It continues executing as long as the specified condition evaluates to True."
      ],
      "metadata": {
        "id": "pu-QLUGlxODT"
      }
    },
    {
      "cell_type": "markdown",
      "source": [
        "14. A while loop is more suitable than a for loop when the number of iterations is not predetermined and the loop should continue based on a dynamic condition that can change during the execution. A classic example of this is a scenario where you need to keep performing an action until a specific condition is met, and the number of iterations is unknown.\n",
        "Scenario: Waiting for a Valid User Input Imagine a program where the user is prompted to enter a valid number within a certain range. The program should keep asking the user for input until they enter a valid number, but the number of attempts is not known in advance. The loop should only stop when the user provides a valid input."
      ],
      "metadata": {
        "id": "6pbGC4BzxQs_"
      }
    },
    {
      "cell_type": "markdown",
      "source": [],
      "metadata": {
        "id": "PXckxf4oxT6v"
      }
    }
  ]
}